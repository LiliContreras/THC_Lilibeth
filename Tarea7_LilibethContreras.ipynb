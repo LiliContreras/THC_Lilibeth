{
  "nbformat": 4,
  "nbformat_minor": 0,
  "metadata": {
    "colab": {
      "provenance": [],
      "authorship_tag": "ABX9TyN+8LEAAU3TKyBN0jaN1YrR",
      "include_colab_link": true
    },
    "kernelspec": {
      "name": "python3",
      "display_name": "Python 3"
    },
    "language_info": {
      "name": "python"
    }
  },
  "cells": [
    {
      "cell_type": "markdown",
      "metadata": {
        "id": "view-in-github",
        "colab_type": "text"
      },
      "source": [
        "<a href=\"https://colab.research.google.com/github/LiliContreras/THC_Lilibeth/blob/main/Tarea7_LilibethContreras.ipynb\" target=\"_parent\"><img src=\"https://colab.research.google.com/assets/colab-badge.svg\" alt=\"Open In Colab\"/></a>"
      ]
    },
    {
      "cell_type": "markdown",
      "source": [
        "#Tarea 7\n",
        "##Lilibeth Contreras\n",
        "\n",
        "1.- Con base en la definición de número primo, escriba una función que reciba un número entero e imprima 'True' si es primo o de lo contrario imprima 'False'. Tenga en cuenta que si el número es menor o igual a 1, se retorna como resultado \"Error en el Número\" y debe volver a preguntar hasta que la entrada sea valida."
      ],
      "metadata": {
        "id": "Cg0VXe-khHND"
      }
    },
    {
      "cell_type": "code",
      "execution_count": 12,
      "metadata": {
        "id": "xDXwrqAyg6Rn"
      },
      "outputs": [],
      "source": [
        "def verifica(num):\n",
        "  if num%num==0 and num%1==0:\n",
        "    print('El número %d es primo'%num)\n",
        "    print('TRUE')\n",
        "  else:\n",
        "    print('El número %d no es primo'%num)\n",
        "    print('FALSE')"
      ]
    },
    {
      "cell_type": "code",
      "source": [
        "num=1\n",
        "while num<=1:\n",
        "  print('Verificación de numeros primos \\n')\n",
        "  num=int(input('Ingresa un número: '))\n",
        "  if num<=1:\n",
        "    print('Error en el número, intente de nuevo \\n')\n",
        "  elif num==2:\n",
        "    print('El número %d es primo'%num)\n",
        "    print('TRUE')\n",
        "  elif num%2==0:\n",
        "    print('El número %d no es primo'%num)\n",
        "    print('FALSE')\n",
        "  else:\n",
        "    verifica(num)\n",
        "\n",
        "\n"
      ],
      "metadata": {
        "colab": {
          "base_uri": "https://localhost:8080/"
        },
        "id": "SRz93KiChhOM",
        "outputId": "c42235f1-a5e6-4e25-dba1-a4cd48ab7a17"
      },
      "execution_count": 20,
      "outputs": [
        {
          "output_type": "stream",
          "name": "stdout",
          "text": [
            "Verificación de numeros primos \n",
            "\n",
            "Ingresa un número: 78\n",
            "El número 78 no es primo\n",
            "FALSE\n"
          ]
        }
      ]
    },
    {
      "cell_type": "markdown",
      "source": [
        "\n",
        "\n",
        "2.- Sin utilizar librerías adicionales cree un arreglo de numéros enteros (entre 0 y 150) y calcule a través de funciones estándar o lambda lo siguiente:\n",
        "\n",
        "    El promedio\n",
        "    La varianza\n",
        "    La desviación estándar\n",
        "    Visualice los datos en un histograma.\n",
        "    La suma de los números pares e impares.\n",
        "    Los múltiplos de 2, 3 y 5.\n",
        "\n"
      ],
      "metadata": {
        "id": "4o2yCxRLj9Wn"
      }
    },
    {
      "cell_type": "code",
      "source": [
        "import random\n",
        "import math\n",
        "import matplotlib.pyplot as plt"
      ],
      "metadata": {
        "id": "fkru2E4zmyLY"
      },
      "execution_count": 34,
      "outputs": []
    },
    {
      "cell_type": "code",
      "source": [
        "#Crear arreglo\n",
        "n=int(input('¿De cuantos elementos se requiere el arreglo?: '))\n",
        "arreglo=[]\n",
        "for i in range(n):\n",
        "  arreglo.append(random.randint(0,150))\n",
        "print(arreglo)"
      ],
      "metadata": {
        "colab": {
          "base_uri": "https://localhost:8080/"
        },
        "id": "9Ubgthydmchv",
        "outputId": "ad915062-8c73-47b9-ef6e-4a0061720f4e"
      },
      "execution_count": 23,
      "outputs": [
        {
          "output_type": "stream",
          "name": "stdout",
          "text": [
            "¿De cuantos elementos se requiere el arreglo?: 5\n",
            "[133, 89, 116, 94, 16]\n"
          ]
        }
      ]
    },
    {
      "cell_type": "code",
      "source": [
        "#Promedio:\n",
        "aux=0\n",
        "for i in range(n):\n",
        "  aux=aux+arreglo[i]\n",
        "promedio=aux/n\n",
        "print('El promedio del arreglo es: %f'%promedio)"
      ],
      "metadata": {
        "colab": {
          "base_uri": "https://localhost:8080/"
        },
        "id": "Fe5kiG5sm83V",
        "outputId": "b2a0b478-fea0-4b3b-ecd5-046beeb526e3"
      },
      "execution_count": 24,
      "outputs": [
        {
          "output_type": "stream",
          "name": "stdout",
          "text": [
            "El promedio del arreglo es: 89.600000\n"
          ]
        }
      ]
    },
    {
      "cell_type": "code",
      "source": [
        "#Varianza\n",
        "dif_cuad=[]\n",
        "for i in range(n):\n",
        "  #Diferencias al cuadrado:\n",
        "  dif_cuad.append((arreglo[i]-promedio)**2)\n",
        "#Suma de diferencias:\n",
        "aux=0\n",
        "for i in range(n):\n",
        "  aux=aux+dif_cuad[i]\n",
        "varianza=aux/(n-1)\n",
        "\n",
        "print('La Varianza del arreglo es: %f'%varianza)"
      ],
      "metadata": {
        "colab": {
          "base_uri": "https://localhost:8080/"
        },
        "id": "dvA4vvSln6Qi",
        "outputId": "1c200d4d-2609-4c44-d703-08757ff78af6"
      },
      "execution_count": 30,
      "outputs": [
        {
          "output_type": "stream",
          "name": "stdout",
          "text": [
            "La Varianza del arreglo es: 2004.300000\n"
          ]
        }
      ]
    },
    {
      "cell_type": "code",
      "source": [
        "#Desviación estándar\n",
        "de=math.sqrt(varianza)\n",
        "print('La desviación estándar del arreglo es: %f'%de)"
      ],
      "metadata": {
        "colab": {
          "base_uri": "https://localhost:8080/"
        },
        "id": "ZhnGvXvDq1mA",
        "outputId": "a86f4905-b93b-4c9f-9bda-abeb72a9775e"
      },
      "execution_count": 32,
      "outputs": [
        {
          "output_type": "stream",
          "name": "stdout",
          "text": [
            "La desviación estándar del arreglo es: 44.769409\n"
          ]
        }
      ]
    },
    {
      "cell_type": "code",
      "source": [
        "#Histograma\n",
        "plt.hist(arreglo, bins=5, color='pink')  # Crear el histograma con 5 contenedores (bins) y color azul claro\n",
        "plt.title('Histograma del arreglo')  # Título del gráfico\n",
        "plt.xlabel('Valores')  # Etiqueta del eje x\n",
        "plt.ylabel('Frecuencia')  # Etiqueta del eje y\n",
        "plt.grid(True)  # Mostrar cuadrícula\n",
        "plt.show()  # Mostrar el histograma"
      ],
      "metadata": {
        "colab": {
          "base_uri": "https://localhost:8080/",
          "height": 472
        },
        "id": "-cP260nEtE2n",
        "outputId": "1633a825-d1c4-4b26-e12e-88042894951d"
      },
      "execution_count": 35,
      "outputs": [
        {
          "output_type": "display_data",
          "data": {
            "text/plain": [
              "<Figure size 640x480 with 1 Axes>"
            ],
            "image/png": "[encoded data removed]"
          },
          "metadata": {}
        }
      ]
    },
    {
      "cell_type": "code",
      "source": [
        "#Suma de números pares e impares\n",
        "paraux=[]\n",
        "parsuma=0\n",
        "imparaux=[]\n",
        "imparsuma=0\n",
        "for i in range(n):\n",
        "  if arreglo[i]%2==0:\n",
        "    paraux.append(arreglo[i])\n",
        "    parsuma=parsuma+arreglo[i]\n",
        "  else:\n",
        "    imparaux.append(arreglo[i])\n",
        "    imparsuma=imparsuma+arreglo[i]\n",
        "\n",
        "print('Los numeros pares del arreglo son:')\n",
        "print(paraux)\n",
        "print('y el resultado de la suma es: %f \\n'%parsuma)\n",
        "\n",
        "print('Los numeros impares del arreglo son:')\n",
        "print(imparaux)\n",
        "print('y el resultado de la suma es: %f'%imparsuma)"
      ],
      "metadata": {
        "colab": {
          "base_uri": "https://localhost:8080/"
        },
        "id": "5piEpJcftyyg",
        "outputId": "c85d495d-3dae-482a-bb44-780555441ec3"
      },
      "execution_count": 37,
      "outputs": [
        {
          "output_type": "stream",
          "name": "stdout",
          "text": [
            "Los numeros pares del arreglo son:\n",
            "[116, 94, 16]\n",
            "y el resultado de la suma es: 226.000000 \n",
            "\n",
            "Los numeros impares del arreglo son:\n",
            "[133, 89]\n",
            "y el resultado de la suma es: 222.000000\n"
          ]
        }
      ]
    },
    {
      "cell_type": "code",
      "source": [
        "#Multiplos de 2, 3 y 5:\n",
        "\n",
        "for i in range(n):\n",
        "  if arreglo[i]%2==0:\n",
        "    print('El numero %f del arreglo es multiplo de 2'%arreglo[i])\n",
        "  elif arreglo[i]%3==0:\n",
        "    print('El numero %f del arreglo es multiplo de 3'%arreglo[i])\n",
        "  elif arreglo[i]%5==0:\n",
        "    print('El numero %f del arreglo es multiplo de 5'%arreglo[i])\n",
        "  else:\n",
        "    print('El numero %f del arreglo no es multiplo de 2, 3 ni 5'%arreglo[i])"
      ],
      "metadata": {
        "colab": {
          "base_uri": "https://localhost:8080/"
        },
        "id": "YE7PDoMKu004",
        "outputId": "5bfb3bcc-fdff-47c0-e6c1-b38efd8d4f35"
      },
      "execution_count": 38,
      "outputs": [
        {
          "output_type": "stream",
          "name": "stdout",
          "text": [
            "El numero 133.000000 del arreglo no es multiplo de 2, 3 ni 5\n",
            "El numero 89.000000 del arreglo no es multiplo de 2, 3 ni 5\n",
            "El numero 116.000000 del arreglo es multiplo de 2\n",
            "El numero 94.000000 del arreglo es multiplo de 2\n",
            "El numero 16.000000 del arreglo es multiplo de 2\n"
          ]
        }
      ]
    },
    {
      "cell_type": "markdown",
      "source": [
        "\n",
        "\n",
        "3.- En la clase de ecuaciones diferenciales se pide a los estudiantes encontrar la solución del problema de valor inicial:\n",
        "\\begin{equation}\n",
        "  y´=−y+xy(−1)=5.\n",
        "\\end{equation}\n",
        "Los estudiantes llegaron a la solución general cuya ecuación es:\n",
        "\n",
        "\\begin{equation}\n",
        "  y=(x−1)+Ce−x\n",
        "\\end{equation}\n",
        "\n",
        "Apoye a sus compañeros y grafique en python la familia de curvas para la solución de la ecuación diferencial y en un sólo gráfico muestre de diferente color las curvas para los siguientes tres casos:\n",
        "\n",
        "    para valores de C > 0\n",
        "    cuando C = 0\n",
        "    para valores de C < 0\n",
        "\n",
        "Señale en el gráfico las curvas que corresponden a cada uno de los tres casos.\n"
      ],
      "metadata": {
        "id": "x2DO7q08vvfs"
      }
    },
    {
      "cell_type": "code",
      "source": [
        "#Para valores C>0:\n",
        "C1=1\n",
        "#Para C=0\n",
        "C2=0\n",
        "#Para C<0\n",
        "C3=-1\n",
        "\n",
        "x=list(range(-10,11))\n",
        "print(x)"
      ],
      "metadata": {
        "colab": {
          "base_uri": "https://localhost:8080/"
        },
        "id": "e1WrZlDFv9oZ",
        "outputId": "215aa0e4-ee61-4794-b971-31bb73bbb89d"
      },
      "execution_count": 45,
      "outputs": [
        {
          "output_type": "stream",
          "name": "stdout",
          "text": [
            "[-10, -9, -8, -7, -6, -5, -4, -3, -2, -1, 0, 1, 2, 3, 4, 5, 6, 7, 8, 9, 10]\n"
          ]
        }
      ]
    },
    {
      "cell_type": "code",
      "source": [
        "y1=[]\n",
        "y2=[]\n",
        "y3=[]\n",
        "for i in range(len(x)):\n",
        "  y1.append((x[i]-1)+C1-x[i])\n",
        "  y2.append((x[i]-1)+C2-x[i])\n",
        "  y3.append((x[i]-1)+C3-x[i])\n",
        "\n",
        "print(y1)\n",
        "print(y2)\n",
        "print(y3)\n"
      ],
      "metadata": {
        "colab": {
          "base_uri": "https://localhost:8080/"
        },
        "id": "EPEE6KgFwzop",
        "outputId": "5a6242f1-69b9-4d96-a5ac-02cfe859c081"
      },
      "execution_count": 50,
      "outputs": [
        {
          "output_type": "stream",
          "name": "stdout",
          "text": [
            "[0, 0, 0, 0, 0, 0, 0, 0, 0, 0, 0, 0, 0, 0, 0, 0, 0, 0, 0, 0, 0]\n",
            "[-1, -1, -1, -1, -1, -1, -1, -1, -1, -1, -1, -1, -1, -1, -1, -1, -1, -1, -1, -1, -1]\n",
            "[-2, -2, -2, -2, -2, -2, -2, -2, -2, -2, -2, -2, -2, -2, -2, -2, -2, -2, -2, -2, -2]\n"
          ]
        }
      ]
    },
    {
      "cell_type": "code",
      "source": [
        "plt.plot(x,y1,'o-r',label='C>0')\n",
        "plt.plot(x,y2,'v-g',label='C=0')\n",
        "plt.plot(x,y3,'*-b',label='C<0')\n",
        "\n",
        "plt.title('Gráfica de solución general')  # Título del gráfico\n",
        "plt.xlabel('Eje X')  # Etiqueta del eje x\n",
        "plt.ylabel('Eje Y')  # Etiqueta del eje y\n",
        "plt.grid(True)  # Mostrar cuadrícula\n",
        "plt.legend()\n",
        "\n",
        "plt.show()"
      ],
      "metadata": {
        "colab": {
          "base_uri": "https://localhost:8080/",
          "height": 472
        },
        "id": "ZZmHgxN_xy1M",
        "outputId": "77d49e42-a648-4aad-d8cf-c2cab98b1a15"
      },
      "execution_count": 58,
      "outputs": [
        {
          "output_type": "display_data",
          "data": {
            "text/plain": [
              "<Figure size 640x480 with 1 Axes>"
            ],
            "image/png": "[encoded data removed]"
          },
          "metadata": {}
        }
      ]
    },
    {
      "cell_type": "markdown",
      "source": [
        "\n",
        "\n",
        "4.- Sea la función:\n",
        "\n",
        "\\begin{equation}\n",
        "\\frac{3x + 7}{x^2 - 4}\n",
        "\\end{equation}\n",
        "\n",
        "Utilizando la librería matplotlib:\n",
        "\n",
        "1.- Grafique la función con línea continua para un rango de -10 a 10, con más de 1000 muestras.\n",
        "\n",
        "2.- Investigue en la literatura cómo graficar las asíntotas horizontales y verticales. Muéstrelas en el gráfico con líneas punteadas.\n",
        "\n",
        "3.- Establezca límites en el eje \"y\" para evitar que la gráfica muestre valores muy altos o muy bajos cerca de las asíntotas verticales.\n",
        "\n",
        "4.- Añada una leyenda indicando los elementos presentes en la gráfica.\n"
      ],
      "metadata": {
        "id": "qzaLLJw2zvAj"
      }
    },
    {
      "cell_type": "code",
      "source": [
        "import numpy as np"
      ],
      "metadata": {
        "id": "lwUQEGoQ03sK"
      },
      "execution_count": 61,
      "outputs": []
    },
    {
      "cell_type": "code",
      "source": [
        "x=np.linspace(-10, 11, num=1000)\n",
        "\n",
        "y=[]\n",
        "for i in range(len(x)):\n",
        "  a=3*x[i]+7\n",
        "  b=x[i]**2-4\n",
        "  y.append(a/b)\n",
        "\n",
        "#asintotas:\n",
        "y1=x*0+2\n",
        "x2=x*0+2\n",
        "y2=np.linspace(-200, 1100, num=1000)"
      ],
      "metadata": {
        "id": "0WC_9o6KzwWL"
      },
      "execution_count": 69,
      "outputs": []
    },
    {
      "cell_type": "code",
      "source": [
        "plt.plot(x,y,linewidth=1,label='Función')\n",
        "plt.plot(x,y1,'--',linewidth=3,label='Asintota y=2')\n",
        "plt.plot(x2,y2,'--',linewidth=3,label='Asintota x=2')\n",
        "plt.ylim((-100,600))\n",
        "plt.xlim((0,5))\n",
        "plt.legend()\n",
        "plt.title('Gráfica de Función')  # Título del gráfico\n",
        "plt.xlabel('Eje X')  # Etiqueta del eje x\n",
        "plt.ylabel('Eje Y')  # Etiqueta del eje y\n",
        "plt.grid(True)  # Mostrar cuadrícula\n",
        "plt.show()"
      ],
      "metadata": {
        "colab": {
          "base_uri": "https://localhost:8080/",
          "height": 472
        },
        "id": "nc7wzLaD1UAJ",
        "outputId": "10dd0ddf-7294-43f6-9f69-dc8ca0191db7"
      },
      "execution_count": 79,
      "outputs": [
        {
          "output_type": "display_data",
          "data": {
            "text/plain": [
              "<Figure size 640x480 with 1 Axes>"
            ],
            "image/png": "[encoded data removed]"
          },
          "metadata": {}
        }
      ]
    }
  ]
}