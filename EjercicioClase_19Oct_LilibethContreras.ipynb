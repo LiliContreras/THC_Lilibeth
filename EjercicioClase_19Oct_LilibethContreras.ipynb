{
  "nbformat": 4,
  "nbformat_minor": 0,
  "metadata": {
    "colab": {
      "provenance": [],
      "authorship_tag": "ABX9TyNG3pFuGSYD/ueZ6TNiFvfs",
      "include_colab_link": true
    },
    "kernelspec": {
      "name": "python3",
      "display_name": "Python 3"
    },
    "language_info": {
      "name": "python"
    }
  },
  "cells": [
    {
      "cell_type": "markdown",
      "metadata": {
        "id": "view-in-github",
        "colab_type": "text"
      },
      "source": [
        "<a href=\"https://colab.research.google.com/github/LiliContreras/THC_Lilibeth/blob/main/EjercicioClase_19Oct_LilibethContreras.ipynb\" target=\"_parent\"><img src=\"https://colab.research.google.com/assets/colab-badge.svg\" alt=\"Open In Colab\"/></a>"
      ]
    },
    {
      "cell_type": "markdown",
      "source": [
        "#Numpy\n",
        "\n",
        "**Importante**\n",
        "\n",
        "Biblioteca para hacer cálculos numéricos\n"
      ],
      "metadata": {
        "id": "qwIJMYmZC9Q5"
      }
    },
    {
      "cell_type": "code",
      "execution_count": 1,
      "metadata": {
        "id": "BGW6eJcWCw7t"
      },
      "outputs": [],
      "source": [
        "#Importar numpy:\n",
        "import numpy as np #np: alias de numpy"
      ]
    },
    {
      "cell_type": "code",
      "source": [
        "arr= np.array([1,2,3,4,5]) #Entre el paréntesis meto la lista\n",
        "\n",
        "print(arr)\n",
        "\n",
        "print(type(arr)) #Tipo: es un arreglo de numpy"
      ],
      "metadata": {
        "colab": {
          "base_uri": "https://localhost:8080/"
        },
        "id": "IixeyvNMD9B8",
        "outputId": "e799aaab-5807-46c4-b2eb-b1a151645ca4"
      },
      "execution_count": 4,
      "outputs": [
        {
          "output_type": "stream",
          "name": "stdout",
          "text": [
            "[1 2 3 4 5]\n",
            "<class 'numpy.ndarray'>\n"
          ]
        }
      ]
    },
    {
      "cell_type": "code",
      "source": [
        "arr1= np.array((1,2,3,4,5)) #Entre el paréntesis meto una tupla\n",
        "\n",
        "print(arr1)\n",
        "\n",
        "print(type(arr1)) #Tipo: es un arreglo de numpy"
      ],
      "metadata": {
        "colab": {
          "base_uri": "https://localhost:8080/"
        },
        "id": "00JtqSm7EsYZ",
        "outputId": "348f91df-c97a-46f5-88b5-845bed7c319e"
      },
      "execution_count": 5,
      "outputs": [
        {
          "output_type": "stream",
          "name": "stdout",
          "text": [
            "[1 2 3 4 5]\n",
            "<class 'numpy.ndarray'>\n"
          ]
        }
      ]
    },
    {
      "cell_type": "code",
      "source": [
        "matriz=np.array([[1,2,3],[4,5,6]]) #Arreglo bidimensional\n",
        "print(matriz)"
      ],
      "metadata": {
        "colab": {
          "base_uri": "https://localhost:8080/"
        },
        "id": "BTdanPLpFN1S",
        "outputId": "bdef5a1f-9216-4570-c9d9-d4e0f6ed60e7"
      },
      "execution_count": 7,
      "outputs": [
        {
          "output_type": "stream",
          "name": "stdout",
          "text": [
            "[[1 2 3]\n",
            " [4 5 6]]\n"
          ]
        }
      ]
    },
    {
      "cell_type": "markdown",
      "source": [
        "##Arreglos 3-D"
      ],
      "metadata": {
        "id": "rASHR4g9FsCU"
      }
    },
    {
      "cell_type": "code",
      "source": [
        "arr3=np.array([[[1,2,3],[4,5,6]],[[1,2,3],[4,5,6]]])\n",
        "\n",
        "print(arr3)"
      ],
      "metadata": {
        "colab": {
          "base_uri": "https://localhost:8080/"
        },
        "id": "RXk53dTsFvns",
        "outputId": "5950997e-b8d1-4704-e320-4b2b8ae6427d"
      },
      "execution_count": 8,
      "outputs": [
        {
          "output_type": "stream",
          "name": "stdout",
          "text": [
            "[[[1 2 3]\n",
            "  [4 5 6]]\n",
            "\n",
            " [[1 2 3]\n",
            "  [4 5 6]]]\n"
          ]
        }
      ]
    },
    {
      "cell_type": "markdown",
      "source": [
        "Shape= cantidad de columnas y renglones de matriz\n",
        "ndim= dimensiones\n",
        "\n"
      ],
      "metadata": {
        "id": "Xer4XGEfGrcW"
      }
    },
    {
      "cell_type": "code",
      "source": [
        "a=np.array(42)\n",
        "b=np.array([1,2,3,4,5])\n",
        "c=np.array([[1,2,3],[4,5,6]])\n",
        "d=np.array([[[1,2,3],[4,5,6]],[[1,2,3],[4,5,6]]])\n",
        "\n",
        "print(a.ndim,a.shape)\n",
        "print(b.ndim,b.shape)\n",
        "print(c.ndim,c.shape)\n",
        "print(d.ndim,d.shape)"
      ],
      "metadata": {
        "colab": {
          "base_uri": "https://localhost:8080/"
        },
        "id": "SZme1waLGpD_",
        "outputId": "5336c5d4-a84a-4af0-9e71-a4bfe488ebbd"
      },
      "execution_count": 10,
      "outputs": [
        {
          "output_type": "stream",
          "name": "stdout",
          "text": [
            "0 ()\n",
            "1 (5,)\n",
            "2 (2, 3)\n",
            "3 (2, 2, 3)\n"
          ]
        }
      ]
    },
    {
      "cell_type": "markdown",
      "source": [
        "##Acceder a elementos de arreglos"
      ],
      "metadata": {
        "id": "Fxh1rnohIjL_"
      }
    },
    {
      "cell_type": "code",
      "source": [
        "print(b[0])"
      ],
      "metadata": {
        "colab": {
          "base_uri": "https://localhost:8080/"
        },
        "id": "CxfPadu6ImLu",
        "outputId": "e4b7619e-d31a-43bf-9159-6bd7e824ac79"
      },
      "execution_count": 11,
      "outputs": [
        {
          "output_type": "stream",
          "name": "stdout",
          "text": [
            "1\n"
          ]
        }
      ]
    },
    {
      "cell_type": "code",
      "source": [
        "#c:\n",
        "# 0 1 2 <- Columnas\n",
        "# 1 2 3  Fila 0\n",
        "# 4 5 6  Fila 1\n",
        "print(c[0,1]) #Imprime fila 0 y columna 1"
      ],
      "metadata": {
        "colab": {
          "base_uri": "https://localhost:8080/"
        },
        "id": "CyUHewT9IuwU",
        "outputId": "2b98dcf6-fac4-49bd-96ea-b98f018c523c"
      },
      "execution_count": 13,
      "outputs": [
        {
          "output_type": "stream",
          "name": "stdout",
          "text": [
            "2\n"
          ]
        }
      ]
    },
    {
      "cell_type": "code",
      "source": [
        "arr=np.array([[[1,2,3],[4,5,6]],[[7,8,9],[10,11,12]]])\n",
        "#arr:\n",
        "# Dimensión 0:       Dimensión 1\n",
        "# 0 1 2 <- Columnas ->0  1  2\n",
        "# 1 2 3  Fila 0       7  8  9  Fila 0\n",
        "# 4 5 6  Fila 1       10 11 12 Fila 1\n",
        "\n",
        "\n",
        "print(arr[0,1,2])"
      ],
      "metadata": {
        "colab": {
          "base_uri": "https://localhost:8080/"
        },
        "id": "EkWz5dINJROc",
        "outputId": "1cef2928-5992-481c-d787-85d6f50c899e"
      },
      "execution_count": 14,
      "outputs": [
        {
          "output_type": "stream",
          "name": "stdout",
          "text": [
            "6\n"
          ]
        }
      ]
    },
    {
      "cell_type": "markdown",
      "source": [
        "##Ejercicio:"
      ],
      "metadata": {
        "id": "SuP8uzYMKHe4"
      }
    },
    {
      "cell_type": "code",
      "source": [
        "#Listas:\n",
        "#matrizL=[[1,2,3],[4,5,6],[7,8,9]]\n",
        "matrizL=[[1,1,1],[1,1,1],[1,1,1]]\n",
        "matriznp=np.array([[1,2,3],[4,5,6],[7,8,9]])"
      ],
      "metadata": {
        "id": "BQkw2lcPKGtR"
      },
      "execution_count": 36,
      "outputs": []
    },
    {
      "cell_type": "code",
      "source": [
        "#Suma de los elementos de la matriz:\n",
        "\n",
        "#Con la lista normal:\n",
        "Suma=0\n",
        "for i in range(len(matrizL)):\n",
        "  for j in range(len(matrizL)):\n",
        "    Suma=Suma+matrizL[i][j]\n",
        "    #print('%d + %d'%(Suma,matrizL[i][j]))\n",
        "print('La suma de los elementos de la matriz es: %d'%Suma)"
      ],
      "metadata": {
        "colab": {
          "base_uri": "https://localhost:8080/"
        },
        "id": "KvGd8s7WKaOA",
        "outputId": "2706d60a-69c2-421f-beb7-c9714fe06e7f"
      },
      "execution_count": 38,
      "outputs": [
        {
          "output_type": "stream",
          "name": "stdout",
          "text": [
            "La suma de los elementos de la matriz es: 9\n"
          ]
        }
      ]
    },
    {
      "cell_type": "code",
      "source": [
        "#Suma con matriz de numpy:\n",
        "shp=matriznp.shape\n",
        "suma=0\n",
        "for i in range(shp[1]):\n",
        "  for j in range(shp[1]):\n",
        "    suma=suma+matriznp[i,j]\n",
        "    #print('%d + %d'%(suma,matriznp[i,j]))\n",
        "print('La suma de los elementos de la matriz es: %d'%suma)"
      ],
      "metadata": {
        "colab": {
          "base_uri": "https://localhost:8080/"
        },
        "id": "gh0ga6elLRP5",
        "outputId": "984ed0ac-ad3a-4cc8-8ba1-803caae52f21"
      },
      "execution_count": 39,
      "outputs": [
        {
          "output_type": "stream",
          "name": "stdout",
          "text": [
            "La suma de los elementos de la matriz es: 45\n"
          ]
        }
      ]
    },
    {
      "cell_type": "markdown",
      "source": [
        "##Producto escalar por renglones:"
      ],
      "metadata": {
        "id": "1KbLakCaMZWP"
      }
    },
    {
      "cell_type": "code",
      "source": [
        "A=[[1,2],[3,4]]    #  1  2     5  6\n",
        "B=[[5,6],[7,8]]    #  3  4     7  8\n",
        "final=[]\n",
        "for i in range(len(A)):\n",
        "  suma=0\n",
        "  for j in range(len(A)):\n",
        "    C=A[i][j]*B[i][j]\n",
        "    suma=suma+C\n",
        "    #print(suma)\n",
        "  final.append(suma)\n",
        "\n",
        "print(final)"
      ],
      "metadata": {
        "colab": {
          "base_uri": "https://localhost:8080/"
        },
        "id": "Z2BAauOILMFb",
        "outputId": "68b5331e-aa17-4e34-ca78-4ffa35e2c054"
      },
      "execution_count": 26,
      "outputs": [
        {
          "output_type": "stream",
          "name": "stdout",
          "text": [
            "[17, 53]\n"
          ]
        }
      ]
    },
    {
      "cell_type": "markdown",
      "source": [
        "##Producto escalar por columnas"
      ],
      "metadata": {
        "id": "6GJDgNq9O2da"
      }
    },
    {
      "cell_type": "code",
      "source": [
        "final=[]\n",
        "for j in range(len(A)):\n",
        "  suma=0\n",
        "  for i in range(len(A)):\n",
        "    C=A[i][j]*B[i][j]\n",
        "    suma=suma+C\n",
        "    #print(suma)\n",
        "  final.append(suma)\n",
        "\n",
        "print(final)"
      ],
      "metadata": {
        "colab": {
          "base_uri": "https://localhost:8080/"
        },
        "id": "ZTbb-7QKO5s_",
        "outputId": "262b25a3-af5b-44ba-d85b-201d8657f3fd"
      },
      "execution_count": 27,
      "outputs": [
        {
          "output_type": "stream",
          "name": "stdout",
          "text": [
            "[26, 44]\n"
          ]
        }
      ]
    },
    {
      "cell_type": "markdown",
      "source": [
        "##Con arreglos Numpy:"
      ],
      "metadata": {
        "id": "sgVziFKpPQha"
      }
    },
    {
      "cell_type": "code",
      "source": [
        "#Producto por renglones\n",
        "\n",
        "A=np.array([[1,2],[3,4]])\n",
        "B=np.array([[5,6],[7,8]])\n",
        "\n",
        "\n",
        "final=[]\n",
        "shp=A.shape\n",
        "\n",
        "for i in range(shp[0]):\n",
        "  suma=0\n",
        "  for j in range(shp[0]):\n",
        "    C=A[i,j]*B[i,j]\n",
        "    suma=suma+C\n",
        "    #print(suma)\n",
        "  final.append(suma)\n",
        "\n",
        "print(final)\n"
      ],
      "metadata": {
        "colab": {
          "base_uri": "https://localhost:8080/"
        },
        "id": "c5uht_ujPTNP",
        "outputId": "8c788f78-bcfb-4830-c8b3-ab66ba8f511c"
      },
      "execution_count": 34,
      "outputs": [
        {
          "output_type": "stream",
          "name": "stdout",
          "text": [
            "[17, 53]\n"
          ]
        }
      ]
    },
    {
      "cell_type": "code",
      "source": [
        "#Producto por renglones\n",
        "\n",
        "final=[]\n",
        "shp=A.shape\n",
        "\n",
        "for j in range(shp[0]):\n",
        "  suma=0\n",
        "  for i in range(shp[0]):\n",
        "    C=A[i,j]*B[i,j]\n",
        "    suma=suma+C\n",
        "    #print(suma)\n",
        "  final.append(suma)\n",
        "\n",
        "print(final)"
      ],
      "metadata": {
        "colab": {
          "base_uri": "https://localhost:8080/"
        },
        "id": "bvpB6Op2QTK4",
        "outputId": "5f200630-f5e5-4a2d-f78b-345fab9d35b0"
      },
      "execution_count": 35,
      "outputs": [
        {
          "output_type": "stream",
          "name": "stdout",
          "text": [
            "[26, 44]\n"
          ]
        }
      ]
    },
    {
      "cell_type": "code",
      "source": [
        "#¿Cómo funciona \"append\" en arreglos de numpy?\n",
        "prueba=np.array([1,2,3])\n",
        "prueba1=np.array([4,5,6])\n",
        "print(prueba)\n",
        "print(prueba1)\n",
        "\n",
        "fin=np.append(prueba,prueba1)\n",
        "\n",
        "print(fin)"
      ],
      "metadata": {
        "colab": {
          "base_uri": "https://localhost:8080/"
        },
        "id": "qqQKHqKqUqau",
        "outputId": "86cae6c0-5e8d-44fa-b966-9b294ce09a29"
      },
      "execution_count": 41,
      "outputs": [
        {
          "output_type": "stream",
          "name": "stdout",
          "text": [
            "[1 2 3]\n",
            "[4 5 6]\n",
            "[1 2 3 4 5 6]\n"
          ]
        }
      ]
    }
  ]
}