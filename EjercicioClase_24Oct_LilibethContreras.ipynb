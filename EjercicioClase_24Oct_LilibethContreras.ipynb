{
  "nbformat": 4,
  "nbformat_minor": 0,
  "metadata": {
    "colab": {
      "provenance": [],
      "authorship_tag": "ABX9TyOzuPMbJnbFSlfJJGnr2/GP",
      "include_colab_link": true
    },
    "kernelspec": {
      "name": "python3",
      "display_name": "Python 3"
    },
    "language_info": {
      "name": "python"
    }
  },
  "cells": [
    {
      "cell_type": "markdown",
      "metadata": {
        "id": "view-in-github",
        "colab_type": "text"
      },
      "source": [
        "<a href=\"https://colab.research.google.com/github/LiliContreras/THC_Lilibeth/blob/main/EjercicioClase_24Oct_LilibethContreras.ipynb\" target=\"_parent\"><img src=\"https://colab.research.google.com/assets/colab-badge.svg\" alt=\"Open In Colab\"/></a>"
      ]
    },
    {
      "cell_type": "markdown",
      "source": [
        "#Arreglos 1D\n"
      ],
      "metadata": {
        "id": "CwXuAD1A0q3R"
      }
    },
    {
      "cell_type": "code",
      "execution_count": 1,
      "metadata": {
        "id": "llMlc-3zzQKa"
      },
      "outputs": [],
      "source": [
        "import numpy as np"
      ]
    },
    {
      "cell_type": "code",
      "source": [
        "#Indices:     0 1 2 3 4 5 6\n",
        "arr=np.array([1,2,3,4,5,6,7])\n",
        "\n",
        "print(arr[1:5])"
      ],
      "metadata": {
        "colab": {
          "base_uri": "https://localhost:8080/"
        },
        "id": "zN_etuij1isH",
        "outputId": "8e5d833d-411f-4dc6-e92a-407d061ae724"
      },
      "execution_count": 2,
      "outputs": [
        {
          "output_type": "stream",
          "name": "stdout",
          "text": [
            "[2 3 4 5]\n"
          ]
        }
      ]
    },
    {
      "cell_type": "code",
      "source": [
        "print(arr[1:])\n",
        "print(arr[0:4])"
      ],
      "metadata": {
        "colab": {
          "base_uri": "https://localhost:8080/"
        },
        "id": "GUd1p89H10Gq",
        "outputId": "a5ae0364-f833-47a8-8b3b-ee333a041ac6"
      },
      "execution_count": 3,
      "outputs": [
        {
          "output_type": "stream",
          "name": "stdout",
          "text": [
            "[2 3 4 5 6 7]\n",
            "[1 2 3 4]\n"
          ]
        }
      ]
    },
    {
      "cell_type": "markdown",
      "source": [
        "índices con números negativos"
      ],
      "metadata": {
        "id": "CJ49oX1y22-L"
      }
    },
    {
      "cell_type": "code",
      "source": [
        "#Lista:   1  2  3  4  5  6  7\n",
        "#Indices:-7 -6 -5 -4 -3 -2 -1\n",
        "print(arr[-3:-1])"
      ],
      "metadata": {
        "colab": {
          "base_uri": "https://localhost:8080/"
        },
        "id": "fFTSBRnd3AIF",
        "outputId": "ba0f3895-5656-4cbb-d449-28a01ffcf9f9"
      },
      "execution_count": 5,
      "outputs": [
        {
          "output_type": "stream",
          "name": "stdout",
          "text": [
            "[5 6]\n"
          ]
        }
      ]
    },
    {
      "cell_type": "markdown",
      "source": [
        "arreglo[inicio:fin:paso]"
      ],
      "metadata": {
        "id": "VuyR4eIL3wEO"
      }
    },
    {
      "cell_type": "code",
      "source": [
        "print(arr[1:5:2])  #Va desde 1 hasta 5, con un paso de 2. Avanza de 2 en 2"
      ],
      "metadata": {
        "colab": {
          "base_uri": "https://localhost:8080/"
        },
        "id": "_wRwxZmA3jhK",
        "outputId": "5f43c29d-89bc-49e2-8ece-2bc6a587d079"
      },
      "execution_count": 6,
      "outputs": [
        {
          "output_type": "stream",
          "name": "stdout",
          "text": [
            "[2 4]\n"
          ]
        }
      ]
    },
    {
      "cell_type": "code",
      "source": [
        "print(arr[::1])"
      ],
      "metadata": {
        "colab": {
          "base_uri": "https://localhost:8080/"
        },
        "id": "hkfwOrON34co",
        "outputId": "cca35a56-e41f-40bb-f0d5-8c03cb6ff29f"
      },
      "execution_count": 8,
      "outputs": [
        {
          "output_type": "stream",
          "name": "stdout",
          "text": [
            "[1 2 3 4 5 6 7]\n"
          ]
        }
      ]
    },
    {
      "cell_type": "code",
      "source": [
        "print(arr[0:])"
      ],
      "metadata": {
        "colab": {
          "base_uri": "https://localhost:8080/"
        },
        "id": "0g8GQkR84VQN",
        "outputId": "1699dcb7-5a08-40ba-c652-521539e4533d"
      },
      "execution_count": 12,
      "outputs": [
        {
          "output_type": "stream",
          "name": "stdout",
          "text": [
            "[1 2 3 4 5 6 7]\n"
          ]
        }
      ]
    },
    {
      "cell_type": "code",
      "source": [
        "print(arr[:0])"
      ],
      "metadata": {
        "colab": {
          "base_uri": "https://localhost:8080/"
        },
        "id": "1KNJS5E74gWh",
        "outputId": "136644e9-5134-434c-ec1e-48c1862a2cc9"
      },
      "execution_count": 13,
      "outputs": [
        {
          "output_type": "stream",
          "name": "stdout",
          "text": [
            "[]\n"
          ]
        }
      ]
    },
    {
      "cell_type": "markdown",
      "source": [
        "Rebanar por renglones"
      ],
      "metadata": {
        "id": "g1CPOr3758AN"
      }
    },
    {
      "cell_type": "code",
      "source": [
        "arr=np.array([[1,2,3,4,5],[6,7,8,9,10]])\n",
        "'''\n",
        "I  0 1 2 3 4\n",
        "0  1 2 3 4 5\n",
        "1  6 7 8 9 10\n",
        "'''\n",
        "print(arr[1,1:4])"
      ],
      "metadata": {
        "colab": {
          "base_uri": "https://localhost:8080/"
        },
        "id": "16TiV-lD44Rl",
        "outputId": "cf32c341-9d21-440d-9d33-ef85e382ee12"
      },
      "execution_count": 14,
      "outputs": [
        {
          "output_type": "stream",
          "name": "stdout",
          "text": [
            "[7 8 9]\n"
          ]
        }
      ]
    },
    {
      "cell_type": "markdown",
      "source": [
        "Rebanar por columnas"
      ],
      "metadata": {
        "id": "O9NuIfFs5_HJ"
      }
    },
    {
      "cell_type": "code",
      "source": [
        "print(arr[0:2,2]) #El úlñtimo vslor no lo toma en cuenta, va en renglón 0 y 1 en columna 2"
      ],
      "metadata": {
        "colab": {
          "base_uri": "https://localhost:8080/"
        },
        "id": "3aK-Fm3O6BGN",
        "outputId": "4329cce0-bf07-436d-e344-7cc9d0a8ab7a"
      },
      "execution_count": 18,
      "outputs": [
        {
          "output_type": "stream",
          "name": "stdout",
          "text": [
            "[3 8]\n"
          ]
        }
      ]
    },
    {
      "cell_type": "code",
      "source": [
        "print(arr[0:2,3])"
      ],
      "metadata": {
        "colab": {
          "base_uri": "https://localhost:8080/"
        },
        "id": "MxSb_4aa7sZi",
        "outputId": "75e6bd88-9137-4c0d-9882-4241cb6e85a7"
      },
      "execution_count": 20,
      "outputs": [
        {
          "output_type": "stream",
          "name": "stdout",
          "text": [
            "[4 9]\n"
          ]
        }
      ]
    },
    {
      "cell_type": "code",
      "source": [
        "print(arr[0,4])"
      ],
      "metadata": {
        "colab": {
          "base_uri": "https://localhost:8080/"
        },
        "id": "IFOJbmkW7w1K",
        "outputId": "e119ca21-d94d-4963-b76a-5846e0ea2e74"
      },
      "execution_count": 22,
      "outputs": [
        {
          "output_type": "stream",
          "name": "stdout",
          "text": [
            "5\n"
          ]
        }
      ]
    },
    {
      "cell_type": "code",
      "source": [
        "print(arr[0:2,1:4]) #Renglones: 0 y 1 Columnas: 1,2 y 3"
      ],
      "metadata": {
        "colab": {
          "base_uri": "https://localhost:8080/"
        },
        "id": "zLIDPnfi8War",
        "outputId": "1d20486c-c93e-4bb0-d630-0ca2efe324d6"
      },
      "execution_count": 23,
      "outputs": [
        {
          "output_type": "stream",
          "name": "stdout",
          "text": [
            "[[2 3 4]\n",
            " [7 8 9]]\n"
          ]
        }
      ]
    },
    {
      "cell_type": "code",
      "source": [
        "print(arr[0:1,2:5])"
      ],
      "metadata": {
        "colab": {
          "base_uri": "https://localhost:8080/"
        },
        "id": "hdQ2FQtC9XqT",
        "outputId": "fdc53d27-441d-4d35-fad3-14c8d83f7ffe"
      },
      "execution_count": 24,
      "outputs": [
        {
          "output_type": "stream",
          "name": "stdout",
          "text": [
            "[[3 4 5]]\n"
          ]
        }
      ]
    },
    {
      "cell_type": "markdown",
      "source": [
        "Se pueden buscar sobre arreglos, hacer comparaciones etc."
      ],
      "metadata": {
        "id": "wodYtMWD9yMq"
      }
    },
    {
      "cell_type": "code",
      "source": [
        "arr=np.array([1,2,3,4,5,4,4])\n",
        "\n",
        "x=np.where(arr==4)\n",
        "\n",
        "print(x)"
      ],
      "metadata": {
        "colab": {
          "base_uri": "https://localhost:8080/"
        },
        "id": "i8YwNl7A93H8",
        "outputId": "ff0adad5-b1a3-45df-d575-c8940d2adfc7"
      },
      "execution_count": 26,
      "outputs": [
        {
          "output_type": "stream",
          "name": "stdout",
          "text": [
            "(array([3, 5, 6]),)\n"
          ]
        }
      ]
    },
    {
      "cell_type": "code",
      "source": [
        "#Donde elementos del arreglo son divisibles entre 2:\n",
        "arr=np.array([1,2,3,4,5,6,7,8])\n",
        "\n",
        "x=np.where(arr%2 ==0 )\n",
        "\n",
        "print(x)"
      ],
      "metadata": {
        "colab": {
          "base_uri": "https://localhost:8080/"
        },
        "id": "pPJ2rT6W-GWU",
        "outputId": "8e7cc902-f6d4-417a-95df-fbbd94524713"
      },
      "execution_count": 27,
      "outputs": [
        {
          "output_type": "stream",
          "name": "stdout",
          "text": [
            "(array([1, 3, 5, 7]),)\n"
          ]
        }
      ]
    },
    {
      "cell_type": "code",
      "source": [
        "arr=np.array([6,7,8,9])\n",
        "\n",
        "x=np.searchsorted(arr,7) #Busca donde está ese elemento (lista debe estar ordenada)\n",
        "\n",
        "print(x)"
      ],
      "metadata": {
        "colab": {
          "base_uri": "https://localhost:8080/"
        },
        "id": "9Jfrswsl-YlL",
        "outputId": "48a55e15-86ee-45d8-b44c-ce906819bdbe"
      },
      "execution_count": 28,
      "outputs": [
        {
          "output_type": "stream",
          "name": "stdout",
          "text": [
            "1\n"
          ]
        }
      ]
    },
    {
      "cell_type": "code",
      "source": [
        "#Comparaciones:\n",
        "arr=np.array([41,42,43,44])\n",
        "\n",
        "filter_arr=arr>42 #Revisa que valores dentro de arreglo son mayores a 42\n",
        "\n",
        "newarr=arr[filter_arr] #Agarra elementos que cumplen condición, formando nuevo arreglo\n",
        "\n",
        "print(filter_arr) #Imprime que elementos cumplen condición\n",
        "print(newarr)"
      ],
      "metadata": {
        "colab": {
          "base_uri": "https://localhost:8080/"
        },
        "id": "s5ET0kS5-sFv",
        "outputId": "9737550d-09c7-4b0c-e2ac-cfbaef335b33"
      },
      "execution_count": 30,
      "outputs": [
        {
          "output_type": "stream",
          "name": "stdout",
          "text": [
            "[False False  True  True]\n",
            "[43 44]\n"
          ]
        }
      ]
    },
    {
      "cell_type": "markdown",
      "source": [
        "#Ejercicios"
      ],
      "metadata": {
        "id": "xqlpuVlg_obU"
      }
    },
    {
      "cell_type": "code",
      "source": [
        "x=np.array([1,2,3])\n",
        "y=np.array([4,5,6])\n",
        "\n",
        "#Suma:\n",
        "suma=x+y\n",
        "print('Resultado de suma es: ')\n",
        "print(suma)\n",
        "\n",
        "#Imprimir de otra forma:\n",
        "print(f'La suma es {suma}')\n",
        "\n",
        "#Resta:\n",
        "resta=x-y\n",
        "print('Resultado de resta es: ')\n",
        "print(resta)\n",
        "\n",
        "#Multiplicación:\n",
        "mult=x*y\n",
        "print('Resultado de multiplicación es: ')\n",
        "print(mult)\n",
        "\n",
        "#División:\n",
        "div=x/y\n",
        "print('Resultado de división es: ')\n",
        "print(div)"
      ],
      "metadata": {
        "colab": {
          "base_uri": "https://localhost:8080/"
        },
        "id": "HqN10XdC_sZE",
        "outputId": "f9a48475-7d15-4ac0-9fdc-7d3a040616b3"
      },
      "execution_count": 37,
      "outputs": [
        {
          "output_type": "stream",
          "name": "stdout",
          "text": [
            "Resultado de suma es: \n",
            "[5 7 9]\n",
            "La suma es [5 7 9]\n",
            "Resultado de resta es: \n",
            "[-3 -3 -3]\n",
            "Resultado de multiplicación es: \n",
            "[ 4 10 18]\n",
            "Resultado de división es: \n",
            "[0.25 0.4  0.5 ]\n"
          ]
        }
      ]
    },
    {
      "cell_type": "code",
      "source": [
        "print(f'Número pi= {np.pi}')"
      ],
      "metadata": {
        "colab": {
          "base_uri": "https://localhost:8080/"
        },
        "id": "bFfE80Q5CVG-",
        "outputId": "5694d339-85c8-4128-f2be-c94db21ef6e5"
      },
      "execution_count": 38,
      "outputs": [
        {
          "output_type": "stream",
          "name": "stdout",
          "text": [
            "Número pi= 3.141592653589793\n"
          ]
        }
      ]
    },
    {
      "cell_type": "code",
      "source": [
        "angulos=np.array([0,np.pi/2,np.pi])\n",
        "seno=np.sin(angulos)\n",
        "print(f'Los senos {seno} de los ángulos {angulos}')"
      ],
      "metadata": {
        "colab": {
          "base_uri": "https://localhost:8080/"
        },
        "id": "3VNNUXNWCdqi",
        "outputId": "486f9843-80bd-4105-f95b-be982c0ddf8b"
      },
      "execution_count": 39,
      "outputs": [
        {
          "output_type": "stream",
          "name": "stdout",
          "text": [
            "Los senos [0.0000000e+00 1.0000000e+00 1.2246468e-16] de los ángulos [0.         1.57079633 3.14159265]\n"
          ]
        }
      ]
    },
    {
      "cell_type": "code",
      "source": [
        "coseno=np.cos(angulos)\n",
        "print(f'Los angulos {coseno}')\n",
        "print(f'de los ángulos {angulos}')"
      ],
      "metadata": {
        "colab": {
          "base_uri": "https://localhost:8080/"
        },
        "id": "MlPR05VjC_C6",
        "outputId": "fa3eaa64-994b-4142-fe39-f241b196f811"
      },
      "execution_count": 40,
      "outputs": [
        {
          "output_type": "stream",
          "name": "stdout",
          "text": [
            "Los angulos [ 1.000000e+00  6.123234e-17 -1.000000e+00]\n",
            "de los ángulos [0.         1.57079633 3.14159265]\n"
          ]
        }
      ]
    },
    {
      "cell_type": "markdown",
      "source": [
        "Crear arreglos:"
      ],
      "metadata": {
        "id": "RimVZDfvEEUO"
      }
    },
    {
      "cell_type": "code",
      "source": [
        "x=np.array(list(range(1,9)))\n",
        "print(x)"
      ],
      "metadata": {
        "colab": {
          "base_uri": "https://localhost:8080/"
        },
        "id": "7-IlHkO8EF2C",
        "outputId": "9633ef87-be17-468c-81fe-0a544c7af56e"
      },
      "execution_count": 42,
      "outputs": [
        {
          "output_type": "stream",
          "name": "stdout",
          "text": [
            "[1 2 3 4 5 6 7 8]\n"
          ]
        }
      ]
    },
    {
      "cell_type": "markdown",
      "source": [
        "Como crear matriz a partir de arreglo:"
      ],
      "metadata": {
        "id": "CFtlrv7-EUBY"
      }
    },
    {
      "cell_type": "code",
      "source": [
        "matriz=x.reshape(2,4)\n",
        "matriz"
      ],
      "metadata": {
        "colab": {
          "base_uri": "https://localhost:8080/"
        },
        "id": "X7ct-OyLEYEd",
        "outputId": "01e08dde-7af9-467b-c9cf-f09f5baef77f"
      },
      "execution_count": 43,
      "outputs": [
        {
          "output_type": "execute_result",
          "data": {
            "text/plain": [
              "array([[1, 2, 3, 4],\n",
              "       [5, 6, 7, 8]])"
            ]
          },
          "metadata": {},
          "execution_count": 43
        }
      ]
    },
    {
      "cell_type": "code",
      "source": [
        "matriz2=x.reshape(4,2)\n",
        "matriz2"
      ],
      "metadata": {
        "colab": {
          "base_uri": "https://localhost:8080/"
        },
        "id": "qITFPbNlEo0D",
        "outputId": "9338081b-0642-468e-d90c-1365e07f069f"
      },
      "execution_count": 44,
      "outputs": [
        {
          "output_type": "execute_result",
          "data": {
            "text/plain": [
              "array([[1, 2],\n",
              "       [3, 4],\n",
              "       [5, 6],\n",
              "       [7, 8]])"
            ]
          },
          "metadata": {},
          "execution_count": 44
        }
      ]
    },
    {
      "cell_type": "markdown",
      "source": [
        "Arreglo a matriz:"
      ],
      "metadata": {
        "id": "5Kp-nxdiFDuH"
      }
    },
    {
      "cell_type": "code",
      "source": [
        "x.reshape(-1,1)"
      ],
      "metadata": {
        "colab": {
          "base_uri": "https://localhost:8080/"
        },
        "id": "r5ntcgfAE-3l",
        "outputId": "3e1b007d-8e43-4952-a889-c39d1c61748f"
      },
      "execution_count": 45,
      "outputs": [
        {
          "output_type": "execute_result",
          "data": {
            "text/plain": [
              "array([[1],\n",
              "       [2],\n",
              "       [3],\n",
              "       [4],\n",
              "       [5],\n",
              "       [6],\n",
              "       [7],\n",
              "       [8]])"
            ]
          },
          "metadata": {},
          "execution_count": 45
        }
      ]
    },
    {
      "cell_type": "code",
      "source": [
        "x.reshape(-1,1).shape"
      ],
      "metadata": {
        "colab": {
          "base_uri": "https://localhost:8080/"
        },
        "id": "U0B5cnGvFK7b",
        "outputId": "0b1d5f28-6429-4f32-afcc-26d73761123c"
      },
      "execution_count": 46,
      "outputs": [
        {
          "output_type": "execute_result",
          "data": {
            "text/plain": [
              "(8, 1)"
            ]
          },
          "metadata": {},
          "execution_count": 46
        }
      ]
    },
    {
      "cell_type": "code",
      "source": [
        "x=np.linspace(0,1,9)\n",
        "x"
      ],
      "metadata": {
        "colab": {
          "base_uri": "https://localhost:8080/"
        },
        "id": "4-dXVizXFi09",
        "outputId": "9177a6d7-572b-4427-b104-1210f71fc5f8"
      },
      "execution_count": 52,
      "outputs": [
        {
          "output_type": "execute_result",
          "data": {
            "text/plain": [
              "array([0.   , 0.125, 0.25 , 0.375, 0.5  , 0.625, 0.75 , 0.875, 1.   ])"
            ]
          },
          "metadata": {},
          "execution_count": 52
        }
      ]
    },
    {
      "cell_type": "code",
      "source": [
        "#Numeros aleatorios con numpy:\n",
        "np.random.uniform(0,1,6)\n"
      ],
      "metadata": {
        "colab": {
          "base_uri": "https://localhost:8080/"
        },
        "id": "PzbDehb6GgRr",
        "outputId": "d27fb26e-933a-450e-f899-58531b9b9780"
      },
      "execution_count": 53,
      "outputs": [
        {
          "output_type": "execute_result",
          "data": {
            "text/plain": [
              "array([0.51704964, 0.34794142, 0.62013558, 0.07020773, 0.40476758,\n",
              "       0.48979341])"
            ]
          },
          "metadata": {},
          "execution_count": 53
        }
      ]
    },
    {
      "cell_type": "code",
      "source": [
        "#Números aleatorios enteros:\n",
        "np.random.randint(0,10,3)"
      ],
      "metadata": {
        "colab": {
          "base_uri": "https://localhost:8080/"
        },
        "id": "Cx1Bac9YGwKv",
        "outputId": "7b44a801-6d3d-4dad-9578-452b6b44e348"
      },
      "execution_count": 54,
      "outputs": [
        {
          "output_type": "execute_result",
          "data": {
            "text/plain": [
              "array([1, 9, 1])"
            ]
          },
          "metadata": {},
          "execution_count": 54
        }
      ]
    },
    {
      "cell_type": "markdown",
      "source": [
        "#Ejercicio\n",
        "Crear arreglo del 1 al 10, pedir un número del 1 al 10 y luego adivinar el número:\n"
      ],
      "metadata": {
        "id": "npeuYF-0HIo2"
      }
    },
    {
      "cell_type": "code",
      "source": [
        "arreglo=np.array(list(range(1,11)))\n",
        "num=int(input('Ingresa un número: '))\n",
        "\n",
        "magia=0\n",
        "while magia != num:\n",
        "  magia=np.random.randint(1,11,1)\n",
        "  print(f'Tu número es: {magia}')\n",
        "  if magia != num:\n",
        "    print('No :(')\n",
        "  else:\n",
        "    print('Si uwu')"
      ],
      "metadata": {
        "colab": {
          "base_uri": "https://localhost:8080/"
        },
        "id": "MDGtxDTaHmPv",
        "outputId": "d02d80c1-34a4-45ea-b9b7-f0d5ee38694e"
      },
      "execution_count": 59,
      "outputs": [
        {
          "output_type": "stream",
          "name": "stdout",
          "text": [
            "Ingresa un número: 2\n",
            "Tu número es: [9]\n",
            "No :(\n",
            "Tu número es: [10]\n",
            "No :(\n",
            "Tu número es: [10]\n",
            "No :(\n",
            "Tu número es: [6]\n",
            "No :(\n",
            "Tu número es: [1]\n",
            "No :(\n",
            "Tu número es: [6]\n",
            "No :(\n",
            "Tu número es: [2]\n",
            "Si uwu\n"
          ]
        }
      ]
    }
  ]
}