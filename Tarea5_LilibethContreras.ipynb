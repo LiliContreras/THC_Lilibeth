{
  "nbformat": 4,
  "nbformat_minor": 0,
  "metadata": {
    "colab": {
      "provenance": [],
      "authorship_tag": "ABX9TyP3M16g9G6xkDbOg6bC1gvV",
      "include_colab_link": true
    },
    "kernelspec": {
      "name": "python3",
      "display_name": "Python 3"
    },
    "language_info": {
      "name": "python"
    }
  },
  "cells": [
    {
      "cell_type": "markdown",
      "metadata": {
        "id": "view-in-github",
        "colab_type": "text"
      },
      "source": [
        "<a href=\"https://colab.research.google.com/github/LiliContreras/THC_Lilibeth/blob/main/Tarea5_LilibethContreras.ipynb\" target=\"_parent\"><img src=\"https://colab.research.google.com/assets/colab-badge.svg\" alt=\"Open In Colab\"/></a>"
      ]
    },
    {
      "cell_type": "markdown",
      "source": [
        "# Tarea 5\n",
        "## Lilibeth Contreras Alvarado\n",
        "\n"
      ],
      "metadata": {
        "id": "BFaS_lwpi1bk"
      }
    },
    {
      "cell_type": "markdown",
      "source": [
        "1. Declarar una lista con 5 números. Posteriormente pedirle al usuario que ingrese 5 números los cuales se deberán guardar en la lista. Finalmente, obtenga el promedio de los valores en la lista."
      ],
      "metadata": {
        "id": "4DVRX91YjN7L"
      }
    },
    {
      "cell_type": "code",
      "execution_count": 9,
      "metadata": {
        "colab": {
          "base_uri": "https://localhost:8080/"
        },
        "id": "r_F4jmfLhuK4",
        "outputId": "5eafbe37-6815-4a27-b4c1-5bdd72d5a176"
      },
      "outputs": [
        {
          "output_type": "stream",
          "name": "stdout",
          "text": [
            "La lista inicial es:[1, 2, 3, 4, 5]\n",
            "Ingresa un número para guardar en la lista: 6\n",
            "**Número agregado**\n",
            "Ingresa un número para guardar en la lista: 7\n",
            "**Número agregado**\n",
            "Ingresa un número para guardar en la lista: 8\n",
            "**Número agregado**\n",
            "Ingresa un número para guardar en la lista: 9\n",
            "**Número agregado**\n",
            "Ingresa un número para guardar en la lista: 10\n",
            "**Número agregado**\n",
            "La nueva lista es: [1, 2, 3, 4, 5, 6, 7, 8, 9, 10]\n",
            "El promedio de los valores de la lista es: 5.500000\n"
          ]
        }
      ],
      "source": [
        "#Se crea lista con 5 números:\n",
        "lista=[1,2,3,4,5]\n",
        "#Se imprimen los números de la lista:\n",
        "print('La lista inicial es:' + str(lista))\n",
        "\n",
        "#Pide al usuario ingresar 5 números\n",
        "for num in range(5):\n",
        "  xn=int(input('Ingresa un número para guardar en la lista: ')) #Se ingresa número\n",
        "  lista.append(xn) #Se agrega el número a la lista\n",
        "  print('**Número agregado**')\n",
        "print('La nueva lista es: '+ str(lista)) #Sale del ciclo e imprime lista completa\n",
        "\n",
        "#Se calcula promedio de los valores en la lista:\n",
        "suma=0 #Variable auxiliar para obtener suma de valores en la lista\n",
        "i=0 #Contador auxiliar\n",
        "for num in lista:\n",
        "  suma=suma+num #Se suman valores dentro de la lista\n",
        "  i=i+1 #Se actualiza contador\n",
        "promedio=suma/i #Sale del ciclo y obtiene promedio\n",
        "print('El promedio de los valores de la lista es: %f'%promedio)\n"
      ]
    },
    {
      "cell_type": "markdown",
      "source": [
        "2. Escribe un programa que encuentre el valor máximo y mínimo en una lista de números."
      ],
      "metadata": {
        "id": "qR0MSBZLmxvo"
      }
    },
    {
      "cell_type": "code",
      "source": [
        "lista=[]\n",
        "#Se pide al usuario que ingrese 10 números a la lista:\n",
        "for num in range(10):\n",
        "  x=int(input('Ingresa un número: ')) #Ingresa número\n",
        "  lista.append(x) #Se agrega número a la lista\n",
        "#Sale del ciclo\n",
        "print('La lista es: ' + str(lista)) #Imprime la lista\n",
        "print('El valor mínimo de la lista es: ' + str(min(lista))) #Imprime mínimo\n",
        "print('El valor máximo de la lista es: ' + str(max(lista))) #Imprime máximo\n"
      ],
      "metadata": {
        "colab": {
          "base_uri": "https://localhost:8080/"
        },
        "id": "aitqTkZMm1U4",
        "outputId": "432518eb-5e3b-4eb6-be61-497f2e9a9057"
      },
      "execution_count": 16,
      "outputs": [
        {
          "output_type": "stream",
          "name": "stdout",
          "text": [
            "Ingresa un número: 21\n",
            "Ingresa un número: 34\n",
            "Ingresa un número: 12\n",
            "Ingresa un número: 66\n",
            "Ingresa un número: 41\n",
            "Ingresa un número: 7\n",
            "Ingresa un número: 27\n",
            "Ingresa un número: 96\n",
            "Ingresa un número: 36\n",
            "Ingresa un número: 14\n",
            "La lista es: [21, 34, 12, 66, 41, 7, 27, 96, 36, 14]\n",
            "El valor mínimo de la lista es: 7\n",
            "El valor máximo de la lista es: 96\n"
          ]
        }
      ]
    },
    {
      "cell_type": "markdown",
      "source": [
        "3. Dada una lista de números, crea dos listas separadas: una para números pares y otra para números impares"
      ],
      "metadata": {
        "id": "WOW5G5XypaiJ"
      }
    },
    {
      "cell_type": "code",
      "source": [
        "#Se definen listas para números pares e impares:\n",
        "par=[]\n",
        "impar=[]\n",
        "lista=[]\n",
        "#Se crea lista por el usuario:\n",
        "for num in range(10):\n",
        "  x=int(input('Ingresa un número para la lista: ')) #Se ingresa número\n",
        "  lista.append(x) #Se agrega número a la lista general\n",
        "  if x%2==0: #Se verifica si el número ingresado es par\n",
        "    par.append(x) #Si es par, se agrega a lista \"par\"\n",
        "  else:\n",
        "    impar.append(x) #Sino es par, se agrega a la lista \"impar\"\n",
        "\n",
        "#Se imprimen resultados:\n",
        "print('La lista final es: ' + str(lista))\n",
        "print('La lista de números pares es: ' + str(par))\n",
        "print('La lista de números impares es: ' + str(impar))\n"
      ],
      "metadata": {
        "colab": {
          "base_uri": "https://localhost:8080/"
        },
        "id": "ZLyAHDf8pVot",
        "outputId": "0bab94fa-a26e-4f91-8d87-cea512178854"
      },
      "execution_count": 20,
      "outputs": [
        {
          "output_type": "stream",
          "name": "stdout",
          "text": [
            "Ingresa un número para la lista: 3\n",
            "Ingresa un número para la lista: 6\n",
            "Ingresa un número para la lista: 4\n",
            "Ingresa un número para la lista: 12\n",
            "Ingresa un número para la lista: 21\n",
            "Ingresa un número para la lista: 55\n",
            "Ingresa un número para la lista: 19\n",
            "Ingresa un número para la lista: 64\n",
            "Ingresa un número para la lista: 88\n",
            "Ingresa un número para la lista: 70\n",
            "La lista final es: [3, 6, 4, 12, 21, 55, 19, 64, 88, 70]\n",
            "La lista de números pares es: [6, 4, 12, 64, 88, 70]\n",
            "La lista de números impares es: [3, 21, 55, 19]\n"
          ]
        }
      ]
    }
  ]
}