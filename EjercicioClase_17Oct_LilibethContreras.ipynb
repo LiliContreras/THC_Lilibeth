{
  "nbformat": 4,
  "nbformat_minor": 0,
  "metadata": {
    "colab": {
      "provenance": [],
      "authorship_tag": "ABX9TyNy0CNyJJYZuQYi6T+o2Agb",
      "include_colab_link": true
    },
    "kernelspec": {
      "name": "python3",
      "display_name": "Python 3"
    },
    "language_info": {
      "name": "python"
    }
  },
  "cells": [
    {
      "cell_type": "markdown",
      "metadata": {
        "id": "view-in-github",
        "colab_type": "text"
      },
      "source": [
        "<a href=\"https://colab.research.google.com/github/LiliContreras/THC_Lilibeth/blob/main/EjercicioClase_17Oct_LilibethContreras.ipynb\" target=\"_parent\"><img src=\"https://colab.research.google.com/assets/colab-badge.svg\" alt=\"Open In Colab\"/></a>"
      ]
    },
    {
      "cell_type": "markdown",
      "source": [
        "#Nivel Intermedio\n",
        "\n",
        "##Biblioteca MATH"
      ],
      "metadata": {
        "id": "MrZLX51ewcMm"
      }
    },
    {
      "cell_type": "code",
      "execution_count": 1,
      "metadata": {
        "id": "YaA0IcVovwKH"
      },
      "outputs": [],
      "source": [
        "import math #Se importa biblioteca"
      ]
    },
    {
      "cell_type": "code",
      "source": [
        "#Redondeando hacia arriba con la biblioteca math:\n",
        "print(math.ceil(1.4))\n",
        "print(math.ceil(5.3))\n",
        "print(math.ceil(-5.3))"
      ],
      "metadata": {
        "colab": {
          "base_uri": "https://localhost:8080/"
        },
        "id": "ulOke5E7xISg",
        "outputId": "7cc83cb5-f9fa-4848-d1ed-6f0d3b24d2ef"
      },
      "execution_count": 3,
      "outputs": [
        {
          "output_type": "stream",
          "name": "stdout",
          "text": [
            "2\n",
            "6\n",
            "-5\n"
          ]
        }
      ]
    },
    {
      "cell_type": "code",
      "source": [
        "#Combinaciones\n",
        "#Elementos\n",
        "n=7\n",
        "#Posibilidades a elegir\n",
        "k=5\n",
        "print(math.comb(n,k))"
      ],
      "metadata": {
        "colab": {
          "base_uri": "https://localhost:8080/"
        },
        "id": "sax6RxLqxdj2",
        "outputId": "aa0b40ec-412b-4bb8-ede3-1f49fbb13642"
      },
      "execution_count": 4,
      "outputs": [
        {
          "output_type": "stream",
          "name": "stdout",
          "text": [
            "21\n"
          ]
        }
      ]
    },
    {
      "cell_type": "code",
      "source": [
        "#Distancia entre dos puntos:\n",
        "p=[3,3]\n",
        "q=[6,12]\n",
        "\n",
        "#Calcula distancia:\n",
        "print(math.dist(p,q))"
      ],
      "metadata": {
        "colab": {
          "base_uri": "https://localhost:8080/"
        },
        "id": "0T9EFFsgxuUM",
        "outputId": "0a326ab0-c7bd-4166-cd69-2d02e18613f0"
      },
      "execution_count": 5,
      "outputs": [
        {
          "output_type": "stream",
          "name": "stdout",
          "text": [
            "9.486832980505138\n"
          ]
        }
      ]
    },
    {
      "cell_type": "code",
      "source": [
        "#Comprobar si valor es infinito:\n",
        "print(math.isinf(56))\n",
        "print(math.isinf(math.inf))\n",
        "print(math.isinf(float('inf')))"
      ],
      "metadata": {
        "colab": {
          "base_uri": "https://localhost:8080/"
        },
        "id": "Y6jh8ZCMyLPd",
        "outputId": "c15c988e-1d71-422f-82ea-bd20148ce686"
      },
      "execution_count": 8,
      "outputs": [
        {
          "output_type": "stream",
          "name": "stdout",
          "text": [
            "False\n",
            "True\n",
            "True\n"
          ]
        }
      ]
    },
    {
      "cell_type": "markdown",
      "source": [
        "Añgunas funciones de esta biblioteca incluyen:\n",
        "- math.cos() y sus variantes\n",
        "- math.sin() y sus variantes\n",
        "- math.tan() y sus variantes\n",
        "- math.exp()\n",
        "- math.pow() (potencia)\n",
        "- etc.\n",
        "\n",
        "Algunas constantes:\n",
        "- math.pi\n",
        "- math.e (euler)\n",
        "- math.inf (infinito)\n",
        "- Entre otros"
      ],
      "metadata": {
        "id": "NajxkffOyr2w"
      }
    },
    {
      "cell_type": "markdown",
      "source": [
        "##Biblioteca Random"
      ],
      "metadata": {
        "id": "q2BIG_v_zsvl"
      }
    },
    {
      "cell_type": "code",
      "source": [
        "import random #Simula aleatoriedad de los números"
      ],
      "metadata": {
        "id": "Evb0DzGKzJVR"
      },
      "execution_count": 9,
      "outputs": []
    },
    {
      "cell_type": "code",
      "source": [
        "random.seed(10) #Se genera semilla, es la base para generar número aleatorio, importante fijar la semilla\n",
        "print(random.random())"
      ],
      "metadata": {
        "colab": {
          "base_uri": "https://localhost:8080/"
        },
        "id": "I381B-_-zzd9",
        "outputId": "fbbd3c44-5302-46cf-aab4-b9cfe6cb7269"
      },
      "execution_count": 10,
      "outputs": [
        {
          "output_type": "stream",
          "name": "stdout",
          "text": [
            "0.5714025946899135\n"
          ]
        }
      ]
    },
    {
      "cell_type": "code",
      "source": [
        "print(random.randint(3,9)) #Imprime número aleatorio entre 3 y 9"
      ],
      "metadata": {
        "colab": {
          "base_uri": "https://localhost:8080/"
        },
        "id": "B-fl2MSB0ceC",
        "outputId": "94fcb2df-310b-4200-a8c2-774037f51e7b"
      },
      "execution_count": 13,
      "outputs": [
        {
          "output_type": "stream",
          "name": "stdout",
          "text": [
            "7\n"
          ]
        }
      ]
    },
    {
      "cell_type": "code",
      "source": [
        "#Choice:\n",
        "\n",
        "lista=['naranja','fresa','mango']\n",
        "print(random.choice(lista))\n",
        "\n",
        "#Se utiliza en lo de machine learning redes neuronales"
      ],
      "metadata": {
        "colab": {
          "base_uri": "https://localhost:8080/"
        },
        "id": "ebSUtSg90-FP",
        "outputId": "90a880dc-2f50-49d3-b5ad-0118cfb27273"
      },
      "execution_count": 17,
      "outputs": [
        {
          "output_type": "stream",
          "name": "stdout",
          "text": [
            "fresa\n"
          ]
        }
      ]
    },
    {
      "cell_type": "markdown",
      "source": [
        "Algunas funciones son:\n",
        "- random()\n",
        "- choice()\n",
        "- choices()\n",
        "- gauss()\n",
        "- entre otros"
      ],
      "metadata": {
        "id": "nIXoRXjk1mcx"
      }
    },
    {
      "cell_type": "markdown",
      "source": [
        "#Ejercicio antes de numpy:\n"
      ],
      "metadata": {
        "id": "NZYEy_EO2Edn"
      }
    },
    {
      "cell_type": "code",
      "source": [
        "#Matriz:\n",
        "A=[[1,2,3],[4,5,6],[7,8,9]]\n",
        "print(A)"
      ],
      "metadata": {
        "colab": {
          "base_uri": "https://localhost:8080/"
        },
        "id": "xoDu0vNA2Hgt",
        "outputId": "b40b6121-9920-4810-8079-cf55ada55e5c"
      },
      "execution_count": 24,
      "outputs": [
        {
          "output_type": "stream",
          "name": "stdout",
          "text": [
            "[[1, 2, 3], [4, 5, 6], [7, 8, 9]]\n"
          ]
        }
      ]
    },
    {
      "cell_type": "code",
      "source": [
        "B=[[10,11,12],[13,14,15],[16,17,18]]\n",
        "print(B)"
      ],
      "metadata": {
        "colab": {
          "base_uri": "https://localhost:8080/"
        },
        "id": "E4EtuN8g3S9H",
        "outputId": "16c1b3ec-b379-48f0-8d06-bf1f5153048f"
      },
      "execution_count": 25,
      "outputs": [
        {
          "output_type": "stream",
          "name": "stdout",
          "text": [
            "[[10, 11, 12], [13, 14, 15], [16, 17, 18]]\n"
          ]
        }
      ]
    },
    {
      "cell_type": "code",
      "source": [
        "#Para acceder a elementos dentro de matriz:\n",
        "print(A[0][0])"
      ],
      "metadata": {
        "colab": {
          "base_uri": "https://localhost:8080/"
        },
        "id": "mfsGQT_A3B0V",
        "outputId": "26b0dddf-a746-488a-957c-294eb6ffec13"
      },
      "execution_count": 30,
      "outputs": [
        {
          "output_type": "stream",
          "name": "stdout",
          "text": [
            "1\n"
          ]
        }
      ]
    },
    {
      "cell_type": "code",
      "source": [
        "print(B[1][1])"
      ],
      "metadata": {
        "colab": {
          "base_uri": "https://localhost:8080/"
        },
        "id": "PJ8RRTyX4BhO",
        "outputId": "f6e7a6a7-19c4-496e-e562-66c0820a880e"
      },
      "execution_count": 31,
      "outputs": [
        {
          "output_type": "stream",
          "name": "stdout",
          "text": [
            "14\n"
          ]
        }
      ]
    },
    {
      "cell_type": "code",
      "source": [
        "#Dinemsión de la matriz\n",
        "len(A)"
      ],
      "metadata": {
        "colab": {
          "base_uri": "https://localhost:8080/"
        },
        "id": "kn9lAdFO4wVb",
        "outputId": "9bae3ab4-4270-41c8-9725-2fc6cdeb0b18"
      },
      "execution_count": 32,
      "outputs": [
        {
          "output_type": "execute_result",
          "data": {
            "text/plain": [
              "3"
            ]
          },
          "metadata": {},
          "execution_count": 32
        }
      ]
    },
    {
      "cell_type": "code",
      "source": [
        "#Imprimir matriz con un for, elementos del primer renglón:\n",
        "for i in range(len(A)):\n",
        "  print(A[0][i])"
      ],
      "metadata": {
        "colab": {
          "base_uri": "https://localhost:8080/"
        },
        "id": "EbV5QVlM4VTI",
        "outputId": "7a4a0b66-fce5-45ef-953a-1f67d5aac36d"
      },
      "execution_count": 33,
      "outputs": [
        {
          "output_type": "stream",
          "name": "stdout",
          "text": [
            "1\n",
            "2\n",
            "3\n"
          ]
        }
      ]
    },
    {
      "cell_type": "code",
      "source": [
        "#Elementos del segundo renglón\n",
        "for i in range(len(A)):\n",
        "  print(A[1][i])"
      ],
      "metadata": {
        "colab": {
          "base_uri": "https://localhost:8080/"
        },
        "id": "1uh4TAXV5Rdf",
        "outputId": "f75a7fb1-04d6-4510-9c86-f5d367167f78"
      },
      "execution_count": 35,
      "outputs": [
        {
          "output_type": "stream",
          "name": "stdout",
          "text": [
            "4\n",
            "5\n",
            "6\n"
          ]
        }
      ]
    },
    {
      "cell_type": "code",
      "source": [
        "#Imprimiendo columnas con for, elementos en columna 1\n",
        "for j in range(len(A)):\n",
        "  print(A[j][0])"
      ],
      "metadata": {
        "colab": {
          "base_uri": "https://localhost:8080/"
        },
        "id": "IQkG3giX5hEr",
        "outputId": "879d3d8e-5ad5-4ad1-9310-1d6f30ca093a"
      },
      "execution_count": 37,
      "outputs": [
        {
          "output_type": "stream",
          "name": "stdout",
          "text": [
            "1\n",
            "4\n",
            "7\n"
          ]
        }
      ]
    },
    {
      "cell_type": "code",
      "source": [
        "#Imprimiendo la matriz completa\n",
        "for j in range(len(A)): #Se mueve entre columnas\n",
        "  for i in range(len(A)): #Se mueve entre renglones\n",
        "    print(A[j][i])"
      ],
      "metadata": {
        "colab": {
          "base_uri": "https://localhost:8080/"
        },
        "id": "HuH76SPv48S5",
        "outputId": "d75d8f12-a123-4d09-9025-c9bc550c6779"
      },
      "execution_count": 40,
      "outputs": [
        {
          "output_type": "stream",
          "name": "stdout",
          "text": [
            "1\n",
            "2\n",
            "3\n",
            "4\n",
            "5\n",
            "6\n",
            "7\n",
            "8\n",
            "9\n"
          ]
        }
      ]
    },
    {
      "cell_type": "code",
      "source": [
        "#Imprimir por columnas:\n",
        "for i in range(len(A)): #Se mueve entre columnas\n",
        "  for j in range(len(A)): #Se mueve entre renglones\n",
        "    print(A[j][i])"
      ],
      "metadata": {
        "colab": {
          "base_uri": "https://localhost:8080/"
        },
        "id": "muYJ_N316wxP",
        "outputId": "4cceeb2b-b634-49ae-e094-543e222ddfb7"
      },
      "execution_count": 41,
      "outputs": [
        {
          "output_type": "stream",
          "name": "stdout",
          "text": [
            "1\n",
            "4\n",
            "7\n",
            "2\n",
            "5\n",
            "8\n",
            "3\n",
            "6\n",
            "9\n"
          ]
        }
      ]
    }
  ]
}