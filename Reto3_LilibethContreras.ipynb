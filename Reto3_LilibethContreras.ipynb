{
  "nbformat": 4,
  "nbformat_minor": 0,
  "metadata": {
    "colab": {
      "provenance": [],
      "authorship_tag": "ABX9TyPz3QdKqtkG3D5sMefjjvxj",
      "include_colab_link": true
    },
    "kernelspec": {
      "name": "python3",
      "display_name": "Python 3"
    },
    "language_info": {
      "name": "python"
    }
  },
  "cells": [
    {
      "cell_type": "markdown",
      "metadata": {
        "id": "view-in-github",
        "colab_type": "text"
      },
      "source": [
        "<a href=\"https://colab.research.google.com/github/LiliContreras/THC_Lilibeth/blob/main/Reto3_LilibethContreras.ipynb\" target=\"_parent\"><img src=\"https://colab.research.google.com/assets/colab-badge.svg\" alt=\"Open In Colab\"/></a>"
      ]
    },
    {
      "cell_type": "markdown",
      "source": [
        "#Reto 3.\n",
        "\n",
        "##Lilibeth Contreras"
      ],
      "metadata": {
        "id": "-oJZMEPitGuo"
      }
    },
    {
      "cell_type": "markdown",
      "source": [
        "1.- Utilizando listas, diccionarios y fuciones Lambda, programe un reloj mundial, en el que ingrese como\n",
        "entrada la hora de la Ciudad de México y muestre la hora en las siguientes ciudades:\n",
        "\n",
        "Tokio, Japón\n",
        "Pekín, China\n",
        "Dusambé, Tayikistán\n",
        "Perth, Australia\n",
        "Katmandú, Nepal\n",
        "Vilna, Lituania\n",
        "Freetown, Sierra Leona\n",
        "Rio de Janeiro, Brasil\n",
        "Tegucigalpa, Honduras\n",
        "Kinsgton, Jamaica\n",
        "Los Ángeles, EUA"
      ],
      "metadata": {
        "id": "0cXqX6_ZtNme"
      }
    },
    {
      "cell_type": "code",
      "source": [
        "import random"
      ],
      "metadata": {
        "id": "qR77bweB9Coz"
      },
      "execution_count": 61,
      "outputs": []
    },
    {
      "cell_type": "code",
      "execution_count": 82,
      "metadata": {
        "colab": {
          "base_uri": "https://localhost:8080/"
        },
        "id": "rP6N2dDrtEXe",
        "outputId": "6b82e406-ff51-4d3c-82c0-ce0220b78644"
      },
      "outputs": [
        {
          "output_type": "stream",
          "name": "stdout",
          "text": [
            "{'Ciudad': ['Tokio', 'Pekín', 'Dusambé', 'Perth', 'Katmandú', 'Vilna', 'Freetown', 'Rio de Janeiro', 'Tegucigalpa', 'Kingston', 'Los Angeles'], 'TiempoRMex': [9.0, 8.0, 5.0, 8.0, 5.45, 2.0, 0.0, -3.0, -6.0, -5.0, -8.0]}\n"
          ]
        }
      ],
      "source": [
        "#Se crea diccionario de paises y hora respecto gmt:\n",
        "Datos={'Ciudad':['Tokio','Pekín','Dusambé','Perth','Katmandú','Vilna','Freetown','Rio de Janeiro','Tegucigalpa','Kingston','Los Angeles'],'TiempoRMex':[9.0,8.0,5.0,8.0,5.45,2.0,0.0,-3.0,-6.0,-5.0,-8.0]}\n",
        "print(Datos)\n",
        "#Se define diferencia de hora de México respecto a gmt\n",
        "Mexico={'TiempoGMT':-6}"
      ]
    },
    {
      "cell_type": "code",
      "source": [
        "#Función de conversión de horas:\n",
        "\n",
        "#Ingresa la hora y la ciudad que se quiere la hora\n",
        "def convertir_hora(hora,ciudad):\n",
        "  for i in range(len(Datos['Ciudad'])): #Busca la ciudad dentro del diccionario\n",
        "    if ciudad==Datos['Ciudad'][i]: #Cuando encuentra la ciudad\n",
        "      tiempoGMT=Datos['TiempoRMex'][i] #Guarda la diferencia respecto a gmt\n",
        "      tiempoGMT=str(tiempoGMT) #Convierte ese dato a str para hacer la siguiente operación\n",
        "      horasp = tiempoGMT.split('.') #Divide respecto a un punto, que es la separación H.M\n",
        "      hh, mm = map(int, hora.split(':')) #Divide horas de minutos que ingreso usuario\n",
        "      #print(hh)\n",
        "      #print(mm)\n",
        "      horas_sumar=-Mexico['TiempoGMT']+int(horasp[0]) #Obtiene diferencia de tiempo GMT\n",
        "      minutos_sumar=0+int(horasp[1]) #Diferencia de minutos\n",
        "      #print(hh)\n",
        "      #print(mm)\n",
        "      hh=(hh+horas_sumar) % 24 #Suma las horas correspondientes y lo deja dentro de rango de 24 hrs\n",
        "      hora_resultante = f\"{hh:02d}:{mm:02d}\" #Construye hora resultante\n",
        "  return hora_resultante"
      ],
      "metadata": {
        "id": "kDKcK1Bw08eC"
      },
      "execution_count": 87,
      "outputs": []
    },
    {
      "cell_type": "code",
      "source": [
        "#Se define la hora a convertir\n",
        "horaMex=input('Ingresa la hora (HH:MM): ')\n",
        "\n",
        "print('La hora a convertir es ' + horaMex+ ' en CDMX')\n",
        "\n",
        "#Se obtiene la hora correspondiente a cada ciudad\n",
        "for ciudad in range(len(Datos['Ciudad'])):\n",
        "  tiempo=convertir_hora(horaMex,Datos['Ciudad'][ciudad]) #Llama a la función\n",
        "  print('La hora en ' + Datos['Ciudad'][ciudad] + ' es: ' + tiempo)\n"
      ],
      "metadata": {
        "colab": {
          "base_uri": "https://localhost:8080/"
        },
        "id": "Jsnn3lv8wqlW",
        "outputId": "0ebf7a1d-4cc4-467d-a013-ca5c1f32bc77"
      },
      "execution_count": 89,
      "outputs": [
        {
          "output_type": "stream",
          "name": "stdout",
          "text": [
            "Ingresa la hora (HH:MM): 09:00\n",
            "La hora a convertir es 09:00 en CDMX\n",
            "La hora en Tokio es: 00:00\n",
            "La hora en Pekín es: 23:00\n",
            "La hora en Dusambé es: 20:00\n",
            "La hora en Perth es: 23:00\n",
            "La hora en Katmandú es: 20:00\n",
            "La hora en Vilna es: 17:00\n",
            "La hora en Freetown es: 15:00\n",
            "La hora en Rio de Janeiro es: 12:00\n",
            "La hora en Tegucigalpa es: 09:00\n",
            "La hora en Kingston es: 10:00\n",
            "La hora en Los Angeles es: 07:00\n"
          ]
        }
      ]
    },
    {
      "cell_type": "markdown",
      "source": [
        "2.- Juego de Piedra, Papel o Tijeras.\n",
        "\n",
        "Genere una función que le permita jugar piedra, papel o tijeras con la computadora, teniendo en cuenta\n",
        "tres posibles resultados: victoria, empate o derrota."
      ],
      "metadata": {
        "id": "7MUeopYlU0zZ"
      }
    },
    {
      "cell_type": "code",
      "source": [
        "#Se definen las opciones disponibles\n",
        "opciones=['piedra','papel','tijera']\n",
        "\n",
        "#Se imprime el inicio del juego\n",
        "print('Juego de piedra, papel o tijera\\n')\n",
        "print('Elige una opción: \\n')\n",
        "print('  1- Piedra\\n')\n",
        "print('  2- Papel\\n')\n",
        "print('  3- Tijera\\n')\n",
        "#Se definen las opciones de cada jugador\n",
        "usuario=int(input('Opción: '))\n",
        "computadora=random.randint(1,3)\n",
        "\n",
        "#Se presentan las opciones elegidas\n",
        "print('El usuario eligió ' + opciones[usuario-1])\n",
        "print('La computadora eligió ' + opciones[computadora-1])\n",
        "#Se verifica quien gana:\n",
        "if usuario==computadora:\n",
        "  print('es un empate')\n",
        "elif (usuario == 1 and computadora == 3) or \\\n",
        "     (usuario == 2 and computadora == 1) or \\\n",
        "     (usuario == 3 and computadora == 2):\n",
        "        print('Ganaste' + opciones[usuario-1]+ ' mata ' + opciones[computadora-1])\n",
        "else:\n",
        "  print('Perdiste :( ' + opciones[computadora-1]+ ' mata ' + opciones[usuario-1])\n",
        "\n"
      ],
      "metadata": {
        "colab": {
          "base_uri": "https://localhost:8080/"
        },
        "id": "PxLO1mnyU-kb",
        "outputId": "78f9be0e-8549-464b-d7c1-6310f1cde0b0"
      },
      "execution_count": 90,
      "outputs": [
        {
          "output_type": "stream",
          "name": "stdout",
          "text": [
            "Juego de piedra, papel o tijera\n",
            "\n",
            "Elige una opción: \n",
            "\n",
            "  1- Piedra\n",
            "\n",
            "  2- Papel\n",
            "\n",
            "  3- Tijera\n",
            "\n",
            "Opción: 2\n",
            "El usuario eligió papel\n",
            "La computadora eligió papel\n",
            "es un empate\n"
          ]
        }
      ]
    },
    {
      "cell_type": "markdown",
      "source": [
        "3.- Iván y Miguel están haciendo un programa para jugar a los dados con las siguientes reglas:\n",
        "\n",
        "    Si sale 1, vuelven a lanzar.\n",
        "    Si sale 6, quedan empatados.\n",
        "    Si sale 2 ó 3 gana Iván.\n",
        "    Si sale 4 ó 5 gana Miguel.\n",
        "\n",
        "Utilizando el condicional while para escribir el mensaje según el resultado de lanzar el dado, realice un programa que le permita jugar a Iván y Miguel.\n",
        "Pista = Utilice la librería random para generar los números aleatorios."
      ],
      "metadata": {
        "id": "MoQQppuCcIHM"
      }
    },
    {
      "cell_type": "code",
      "source": [
        "#Se inicia el dado con opc 1 para iniciar juego\n",
        "dado=1\n",
        "\n",
        "while dado==1: #Mientras la opción sea 1, el juego sigue\n",
        "  dado=random.randint(1,6) #Se tira el dado, se obtiene numero al azar\n",
        "  print('Se obtuvo un %d con el dado'%dado)\n",
        "  if dado==2 or dado==3: #Si el dado da 2 o 3\n",
        "    print('Gana Ivan')\n",
        "    break #Sale del ciclo\n",
        "  elif dado==4 or dado==5: #Si el dado da 4 o 5\n",
        "    print('Gana Miguel')\n",
        "    break #sale del ciclo\n",
        "  elif dado==6: #Si el dado da 6\n",
        "    print('Empate')\n",
        "    break #sale del ciclo\n",
        "  else:\n",
        "    print('Sigue el juego')\n",
        "    #El dado da 1, sigue el juego"
      ],
      "metadata": {
        "colab": {
          "base_uri": "https://localhost:8080/"
        },
        "id": "nB_9H_GncKjJ",
        "outputId": "8abf04d5-ac94-49d2-e505-2e20b1bdaead"
      },
      "execution_count": 108,
      "outputs": [
        {
          "output_type": "stream",
          "name": "stdout",
          "text": [
            "Se obtuvo un 1 con el dado\n",
            "Sigue el juego\n",
            "Se obtuvo un 2 con el dado\n",
            "Gana Ivan\n"
          ]
        }
      ]
    }
  ]
}