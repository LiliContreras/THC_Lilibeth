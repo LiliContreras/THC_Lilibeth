{
  "nbformat": 4,
  "nbformat_minor": 0,
  "metadata": {
    "colab": {
      "provenance": [],
      "authorship_tag": "ABX9TyOgUoLsJWiU3jyl9jMA3+eH",
      "include_colab_link": true
    },
    "kernelspec": {
      "name": "python3",
      "display_name": "Python 3"
    },
    "language_info": {
      "name": "python"
    }
  },
  "cells": [
    {
      "cell_type": "markdown",
      "metadata": {
        "id": "view-in-github",
        "colab_type": "text"
      },
      "source": [
        "<a href=\"https://colab.research.google.com/github/LiliContreras/THC_Lilibeth/blob/main/Tarea6_LilibethContreras.ipynb\" target=\"_parent\"><img src=\"https://colab.research.google.com/assets/colab-badge.svg\" alt=\"Open In Colab\"/></a>"
      ]
    },
    {
      "cell_type": "markdown",
      "source": [
        "# Tarea 6\n",
        "\n",
        "## Lilibeth Contreras Alvarado\n",
        "\n",
        "1- Producto de los vectores"
      ],
      "metadata": {
        "id": "Tn7bF-s3W3t_"
      }
    },
    {
      "cell_type": "code",
      "execution_count": 5,
      "metadata": {
        "id": "GYmez4NPWtoq"
      },
      "outputs": [],
      "source": [
        "#Se define la función:\n",
        "def producto(A,B):\n",
        "  if len(A)==len(B): #Verifica si las dimensiones de los vectores son iguales\n",
        "    n=len(A) #Guarda dimensión de vectores\n",
        "    C=[] #Variable auxiliar para guardar resultado\n",
        "    for i in range(n):\n",
        "      C.append(A[i]*B[i]) #Se multiplica elemento de vector y se agrega a lista de resultados\n",
        "    print('El producto de los dos vectores es: ')\n",
        "    print(C) #Imprime resultado\n",
        "  else: #Los vectores no tienen la misma dimensión\n",
        "    print('No se puede hacer la operación')"
      ]
    },
    {
      "cell_type": "code",
      "source": [
        "#Prueba de función de producto\n",
        "A=[1,2,3]\n",
        "B=[1,2,3]\n",
        "producto(A,B)"
      ],
      "metadata": {
        "colab": {
          "base_uri": "https://localhost:8080/"
        },
        "id": "63OjBtcUY6pi",
        "outputId": "bf2c373d-8a40-4f39-d837-0a466f9a52c0"
      },
      "execution_count": 6,
      "outputs": [
        {
          "output_type": "stream",
          "name": "stdout",
          "text": [
            "El producto de los dos vectores es: \n",
            "[1, 4, 9]\n"
          ]
        }
      ]
    },
    {
      "cell_type": "markdown",
      "source": [
        "2- Potencia de cada vector (n=3)"
      ],
      "metadata": {
        "id": "Lih4eU28ZcmC"
      }
    },
    {
      "cell_type": "code",
      "source": [
        "#Definición de función:\n",
        "def potencia(A,n):\n",
        "  l=len(A) #GUarda dimensión del vector\n",
        "  C=[] #Variable auxiliar para guardar resultado\n",
        "  for i in range(l):\n",
        "    C.append(A[i]**n) #Se obtiene potencia de cada elemento de vector y se agrega a lista de resultado\n",
        "  print('El resultado del vector elevado a la potencia %d es: '% n)\n",
        "  print(C) #Se imprime resultado\n"
      ],
      "metadata": {
        "id": "ck4JDfe4ZlQ7"
      },
      "execution_count": 9,
      "outputs": []
    },
    {
      "cell_type": "code",
      "source": [
        "A=[1,2,3]\n",
        "n=3\n",
        "\n",
        "potencia(A,n)"
      ],
      "metadata": {
        "colab": {
          "base_uri": "https://localhost:8080/"
        },
        "id": "Z27AmDxKaEuX",
        "outputId": "77113f18-2a84-4a3d-c80e-9c694325db69"
      },
      "execution_count": 10,
      "outputs": [
        {
          "output_type": "stream",
          "name": "stdout",
          "text": [
            "El resultado del vector elevado a la potencia 3 es: \n",
            "[1, 8, 27]\n"
          ]
        }
      ]
    },
    {
      "cell_type": "markdown",
      "source": [
        "3- Producto escalar"
      ],
      "metadata": {
        "id": "yU3x051CafPR"
      }
    },
    {
      "cell_type": "code",
      "source": [
        "#Producto punto (escalar):\n",
        "def punto_vec(A,B): # Se define a la función\n",
        "  if len(A)==len(B): # Se verifica que vectores sean del mismo tamaño\n",
        "    n=len(A) #Se guarda la fdimensión de vectores\n",
        "    suma=0 #Variable auxiliar para guardar resultado\n",
        "    for i in range(n):\n",
        "      suma=suma+A[i]*B[i] #Se hace producto y se suma a resultado anterior\n",
        "    print('El resultado del producto punto es: ')\n",
        "    print(suma) #Se imprime resultado\n",
        "  else: #Si los vectores no son de las mismas dimensiones, no se hace la operación\n",
        "    print('No se puede hacer la operación con esos vectores')"
      ],
      "metadata": {
        "id": "culTO9juajnN"
      },
      "execution_count": 11,
      "outputs": []
    },
    {
      "cell_type": "code",
      "source": [
        "A=[1,2,3]\n",
        "B=[1,1,1]\n",
        "punto_vec(A,B)"
      ],
      "metadata": {
        "colab": {
          "base_uri": "https://localhost:8080/"
        },
        "id": "A6eZYvzmawti",
        "outputId": "4b8fe6da-be3c-4966-bb84-a90f7e32205f"
      },
      "execution_count": 12,
      "outputs": [
        {
          "output_type": "stream",
          "name": "stdout",
          "text": [
            "El resultado del producto punto es: \n",
            "6\n"
          ]
        }
      ]
    }
  ]
}